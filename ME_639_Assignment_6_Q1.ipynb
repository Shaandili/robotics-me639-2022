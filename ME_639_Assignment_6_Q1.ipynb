{
  "cells": [
    {
      "cell_type": "markdown",
      "metadata": {
        "id": "view-in-github",
        "colab_type": "text"
      },
      "source": [
        "<a href=\"https://colab.research.google.com/github/Shaandili/robotics-me639-2022/blob/Shaandili/ME_639_Assignment_6_Q1.ipynb\" target=\"_parent\"><img src=\"https://colab.research.google.com/assets/colab-badge.svg\" alt=\"Open In Colab\"/></a>"
      ]
    },
    {
      "cell_type": "code",
      "execution_count": 17,
      "metadata": {
        "id": "MtaH-g0Tg375"
      },
      "outputs": [],
      "source": [
        "#note: the following code has been written specifically for an R3 planar robot with link lengths = 1m\n",
        "import math as m\n",
        "import numpy as np\n",
        "import matplotlib.pyplot as plt\n",
        "from scipy.integrate import odeint\n",
        "#setting desired trajectory\n",
        "r = np.linspace(-3, 3, 100) #extent is 3, since the maximum extent of the robot is also 3 m from the base\n",
        "t = np.linspace(0,2*m.pi,100) #for a whole circle\n",
        "#trajectory for circle with radius 1.5 centered at base - what we desire\n",
        "xd = 1.5*np.cos(t)\n",
        "yd = 1.5*np.sin(t)\n",
        "#matrix for desired trajectory points\n",
        "Xd = [xd, yd]\n",
        "#for desired velocity:\n",
        "xdot = - 1.5*np.sin(t)\n",
        "ydot = 1.5*np.cos(t)\n",
        "Xdot = [xdot,ydot]\n",
        "X = [[0]*len(t),[0]*len(t)]"
      ]
    },
    {
      "cell_type": "code",
      "source": [
        "#user defined function for finding the pseudoinverse of the velocity jacobian\n",
        "def jvplus (q):\n",
        "  dh = [[0, q[0], 1, 0],[0, q[1], 1, 0],[0, q[2], 1, 0]] #dh parameters with joint variables for 3R manipulator\n",
        "  H = [0]*4 #array with link to link transformation matrices\n",
        "  H[0] = np.identity(4)\n",
        "  H0 = np.identity(4) #overall transformation matrix\n",
        "  for i in range(3):\n",
        "    d = dh[i][0]\n",
        "    theta = dh[i][1]\n",
        "    r = dh[i][2]\n",
        "    alpha = dh[i][3]\n",
        "    Z = [[m.cos(theta), -1*m.sin(theta), 0, 0], #transforation matrix, Z operations\n",
        "         [m.sin(theta), m.cos(theta), 0, 0],\n",
        "         [0, 0, 1, d],\n",
        "         [0, 0, 0, 1]]\n",
        "    X = [[1, 0, 0, r], #transforation matrix, X operations\n",
        "         [0, m.cos(alpha), -1*m.sin(alpha), 0],\n",
        "         [0, m.sin(alpha), m.cos(alpha), 0],\n",
        "         [0, 0, 0, 1]]\n",
        "    H[i+1] = np.matmul(Z,X) #adding current link to link transformation to H matrix\n",
        "    H0 = H0@H[i+1] #mutliplying link to link transformations to get overall transformation\n",
        "  on0 = [H0[0][3],H0[1][3],H0[2][3]] #position of last origin (end effector) wrt base\n",
        "  o = np.zeros(3) #for storing position of end effector wrt current frame\n",
        "  Jv = np.zeros((2,3)) #jacobian (initialized) (only for lin velocities, not angular)\n",
        "  h = np.identity(4) #matrix representing transformation from base to current frame\n",
        "  for i in range(3):\n",
        "    h = h@H[i]\n",
        "    z = [h[0][2], h[1][2], h[2][2]] #z -> last column of rotation\n",
        "    oi0 = [h[0][3], h[1][3], h[2][3]] #position of current frame origin wrt base origin\n",
        "    #calculation of o:\n",
        "    o[0] = on0[0] - oi0[0] \n",
        "    o[1] = on0[1] - oi0[1]\n",
        "    o[2] = on0[2] - oi0[2]\n",
        "    zxoi = (z[1]*o[2]) - (o[1]*z[2]) \n",
        "    zxoj = (o[0]*z[2]) - (z[0]*o[2])\n",
        "    zxok = (z[0]*o[1]) - (o[0]*z[1])\n",
        "    zxo = [zxoi, zxoj, zxok] #cross product of z and o\n",
        "    Jv[0][i] = zxo[0]\n",
        "    Jv[1][i] = zxo[1]\n",
        "    # Jv[2][i] = zxo[2]\n",
        "  Jvt = np.transpose(Jv)\n",
        "  Jvplus = Jvt@np.linalg.inv(Jv@Jvt)\n",
        "  return Jvplus"
      ],
      "metadata": {
        "id": "xREiFtblvGih"
      },
      "execution_count": 19,
      "outputs": []
    },
    {
      "cell_type": "code",
      "source": [
        "#input initial conditions:\n",
        "x0 = float(input())\n",
        "y0 = float(input())\n",
        "#add to matrix of actual values\n",
        "X[0][0] = x0\n",
        "X[1][0] = y0\n",
        "#assuming orientation of initial position is 2*PI\n",
        "#inverse kinematics for initial joint conditions:\n",
        "x2 = x0 - 1\n",
        "y2 = y0\n",
        "q20 = m.acos((x2**2 + y2**2 - 2)/2)\n",
        "q10 = m.atan(y2/x2) - m.atan(m.sin(q20)/(1+m.cos(q20)))\n",
        "q30 = 2*m.pi - (q10 + q20)\n",
        "q0 = [q10,q20,q30]\n",
        "#matrix with all q values\n",
        "q = [0]*len(t)\n",
        "q[0] = q0\n",
        "q1d0 = -1.3181160717\n",
        "q2d0 = 2*m.pi - 2*q1d0\n",
        "q3d0 = q1d0\n",
        "qd0 = [q1d0, q2d0, q3d0]\n"
      ],
      "metadata": {
        "id": "BQA38d4noJwl",
        "colab": {
          "base_uri": "https://localhost:8080/"
        },
        "outputId": "9372d5bd-3e16-494f-b700-cffbf3195b87"
      },
      "execution_count": 87,
      "outputs": [
        {
          "name": "stdout",
          "output_type": "stream",
          "text": [
            "1.5\n",
            "0\n"
          ]
        }
      ]
    },
    {
      "cell_type": "code",
      "source": [
        "kp = 4 #stiffness constant for error"
      ],
      "metadata": {
        "id": "PNJ-ZXKNAT2D"
      },
      "execution_count": 88,
      "outputs": []
    },
    {
      "cell_type": "code",
      "source": [
        "for k in range(len(t)):\n",
        "  #calculating current x,y values from current q values\n",
        "  X[0][k] = m.cos(q[k][0]+q[k][1]+q[k][2]) + m.cos(q[k][0]+q[k][1]) + m.cos(q[k][0])\n",
        "  X[1][k] = m.sin(q[k][0]+q[k][1]+q[k][2]) + m.sin(q[k][0]+q[k][1]) + m.sin(q[k][0])\n",
        "  #finding error in position\n",
        "  ex = [Xd[0][k] - X[0][k], Xd[1][k] - X[1][k]]\n",
        "  xdot = [Xdot[0][k],Xdot[1][k]]\n",
        "  #finding pseudoinverse of velocity jacobian for current q values\n",
        "  Jvp = jvplus(q[k])\n",
        "  term1 = Jvp@xdot\n",
        "  term2 = Jvp@ex\n",
        "  delq = term1 + kp*term2\n",
        "  #finding the next position of the robot\n",
        "  q[k+1] = q[k]+ delq"
      ],
      "metadata": {
        "colab": {
          "base_uri": "https://localhost:8080/",
          "height": 314
        },
        "id": "2eyuGWHcJUGX",
        "outputId": "a28df6c6-786f-4a1a-f2b1-2057076c0339"
      },
      "execution_count": 80,
      "outputs": [
        {
          "output_type": "stream",
          "name": "stdout",
          "text": [
            "0\n",
            "1\n",
            "2\n",
            "3\n"
          ]
        },
        {
          "output_type": "error",
          "ename": "IndexError",
          "evalue": "ignored",
          "traceback": [
            "\u001b[0;31m---------------------------------------------------------------------------\u001b[0m",
            "\u001b[0;31mIndexError\u001b[0m                                Traceback (most recent call last)",
            "\u001b[0;32m<ipython-input-80-73b82437fc65>\u001b[0m in \u001b[0;36m<module>\u001b[0;34m\u001b[0m\n\u001b[1;32m      1\u001b[0m \u001b[0;32mfor\u001b[0m \u001b[0mk\u001b[0m \u001b[0;32min\u001b[0m \u001b[0mrange\u001b[0m\u001b[0;34m(\u001b[0m\u001b[0mlen\u001b[0m\u001b[0;34m(\u001b[0m\u001b[0mt\u001b[0m\u001b[0;34m)\u001b[0m\u001b[0;34m)\u001b[0m\u001b[0;34m:\u001b[0m\u001b[0;34m\u001b[0m\u001b[0;34m\u001b[0m\u001b[0m\n\u001b[1;32m      2\u001b[0m   \u001b[0mprint\u001b[0m\u001b[0;34m(\u001b[0m\u001b[0mk\u001b[0m\u001b[0;34m)\u001b[0m\u001b[0;34m\u001b[0m\u001b[0;34m\u001b[0m\u001b[0m\n\u001b[0;32m----> 3\u001b[0;31m   \u001b[0mX\u001b[0m\u001b[0;34m[\u001b[0m\u001b[0;36m0\u001b[0m\u001b[0;34m]\u001b[0m\u001b[0;34m[\u001b[0m\u001b[0mk\u001b[0m\u001b[0;34m]\u001b[0m \u001b[0;34m=\u001b[0m \u001b[0mm\u001b[0m\u001b[0;34m.\u001b[0m\u001b[0mcos\u001b[0m\u001b[0;34m(\u001b[0m\u001b[0mq\u001b[0m\u001b[0;34m[\u001b[0m\u001b[0mk\u001b[0m\u001b[0;34m]\u001b[0m\u001b[0;34m[\u001b[0m\u001b[0;36m0\u001b[0m\u001b[0;34m]\u001b[0m\u001b[0;34m+\u001b[0m\u001b[0mq\u001b[0m\u001b[0;34m[\u001b[0m\u001b[0mk\u001b[0m\u001b[0;34m]\u001b[0m\u001b[0;34m[\u001b[0m\u001b[0;36m1\u001b[0m\u001b[0;34m]\u001b[0m\u001b[0;34m+\u001b[0m\u001b[0mq\u001b[0m\u001b[0;34m[\u001b[0m\u001b[0mk\u001b[0m\u001b[0;34m]\u001b[0m\u001b[0;34m[\u001b[0m\u001b[0;36m2\u001b[0m\u001b[0;34m]\u001b[0m\u001b[0;34m)\u001b[0m \u001b[0;34m+\u001b[0m \u001b[0mm\u001b[0m\u001b[0;34m.\u001b[0m\u001b[0mcos\u001b[0m\u001b[0;34m(\u001b[0m\u001b[0mq\u001b[0m\u001b[0;34m[\u001b[0m\u001b[0mk\u001b[0m\u001b[0;34m]\u001b[0m\u001b[0;34m[\u001b[0m\u001b[0;36m0\u001b[0m\u001b[0;34m]\u001b[0m\u001b[0;34m+\u001b[0m\u001b[0mq\u001b[0m\u001b[0;34m[\u001b[0m\u001b[0mk\u001b[0m\u001b[0;34m]\u001b[0m\u001b[0;34m[\u001b[0m\u001b[0;36m1\u001b[0m\u001b[0;34m]\u001b[0m\u001b[0;34m)\u001b[0m \u001b[0;34m+\u001b[0m \u001b[0mm\u001b[0m\u001b[0;34m.\u001b[0m\u001b[0mcos\u001b[0m\u001b[0;34m(\u001b[0m\u001b[0mq\u001b[0m\u001b[0;34m[\u001b[0m\u001b[0mk\u001b[0m\u001b[0;34m]\u001b[0m\u001b[0;34m[\u001b[0m\u001b[0;36m0\u001b[0m\u001b[0;34m]\u001b[0m\u001b[0;34m)\u001b[0m\u001b[0;34m\u001b[0m\u001b[0;34m\u001b[0m\u001b[0m\n\u001b[0m\u001b[1;32m      4\u001b[0m   \u001b[0mX\u001b[0m\u001b[0;34m[\u001b[0m\u001b[0;36m1\u001b[0m\u001b[0;34m]\u001b[0m\u001b[0;34m[\u001b[0m\u001b[0mk\u001b[0m\u001b[0;34m]\u001b[0m \u001b[0;34m=\u001b[0m \u001b[0mm\u001b[0m\u001b[0;34m.\u001b[0m\u001b[0msin\u001b[0m\u001b[0;34m(\u001b[0m\u001b[0mq\u001b[0m\u001b[0;34m[\u001b[0m\u001b[0mk\u001b[0m\u001b[0;34m]\u001b[0m\u001b[0;34m[\u001b[0m\u001b[0;36m0\u001b[0m\u001b[0;34m]\u001b[0m\u001b[0;34m+\u001b[0m\u001b[0mq\u001b[0m\u001b[0;34m[\u001b[0m\u001b[0mk\u001b[0m\u001b[0;34m]\u001b[0m\u001b[0;34m[\u001b[0m\u001b[0;36m1\u001b[0m\u001b[0;34m]\u001b[0m\u001b[0;34m+\u001b[0m\u001b[0mq\u001b[0m\u001b[0;34m[\u001b[0m\u001b[0mk\u001b[0m\u001b[0;34m]\u001b[0m\u001b[0;34m[\u001b[0m\u001b[0;36m2\u001b[0m\u001b[0;34m]\u001b[0m\u001b[0;34m)\u001b[0m \u001b[0;34m+\u001b[0m \u001b[0mm\u001b[0m\u001b[0;34m.\u001b[0m\u001b[0msin\u001b[0m\u001b[0;34m(\u001b[0m\u001b[0mq\u001b[0m\u001b[0;34m[\u001b[0m\u001b[0mk\u001b[0m\u001b[0;34m]\u001b[0m\u001b[0;34m[\u001b[0m\u001b[0;36m0\u001b[0m\u001b[0;34m]\u001b[0m\u001b[0;34m+\u001b[0m\u001b[0mq\u001b[0m\u001b[0;34m[\u001b[0m\u001b[0mk\u001b[0m\u001b[0;34m]\u001b[0m\u001b[0;34m[\u001b[0m\u001b[0;36m1\u001b[0m\u001b[0;34m]\u001b[0m\u001b[0;34m)\u001b[0m \u001b[0;34m+\u001b[0m \u001b[0mm\u001b[0m\u001b[0;34m.\u001b[0m\u001b[0msin\u001b[0m\u001b[0;34m(\u001b[0m\u001b[0mq\u001b[0m\u001b[0;34m[\u001b[0m\u001b[0mk\u001b[0m\u001b[0;34m]\u001b[0m\u001b[0;34m[\u001b[0m\u001b[0;36m0\u001b[0m\u001b[0;34m]\u001b[0m\u001b[0;34m)\u001b[0m\u001b[0;34m\u001b[0m\u001b[0;34m\u001b[0m\u001b[0m\n\u001b[1;32m      5\u001b[0m   \u001b[0mex\u001b[0m \u001b[0;34m=\u001b[0m \u001b[0;34m[\u001b[0m\u001b[0mXd\u001b[0m\u001b[0;34m[\u001b[0m\u001b[0;36m0\u001b[0m\u001b[0;34m]\u001b[0m\u001b[0;34m[\u001b[0m\u001b[0mk\u001b[0m\u001b[0;34m]\u001b[0m \u001b[0;34m-\u001b[0m \u001b[0mX\u001b[0m\u001b[0;34m[\u001b[0m\u001b[0;36m0\u001b[0m\u001b[0;34m]\u001b[0m\u001b[0;34m[\u001b[0m\u001b[0mk\u001b[0m\u001b[0;34m]\u001b[0m\u001b[0;34m,\u001b[0m \u001b[0mXd\u001b[0m\u001b[0;34m[\u001b[0m\u001b[0;36m1\u001b[0m\u001b[0;34m]\u001b[0m\u001b[0;34m[\u001b[0m\u001b[0mk\u001b[0m\u001b[0;34m]\u001b[0m \u001b[0;34m-\u001b[0m \u001b[0mX\u001b[0m\u001b[0;34m[\u001b[0m\u001b[0;36m1\u001b[0m\u001b[0;34m]\u001b[0m\u001b[0;34m[\u001b[0m\u001b[0mk\u001b[0m\u001b[0;34m]\u001b[0m\u001b[0;34m]\u001b[0m\u001b[0;34m\u001b[0m\u001b[0;34m\u001b[0m\u001b[0m\n",
            "\u001b[0;31mIndexError\u001b[0m: index 3 is out of bounds for axis 0 with size 3"
          ]
        }
      ]
    },
    {
      "cell_type": "code",
      "source": [
        "x = np.cos(q[0]+q[1]+q[2]) + np.cos(q[0]+q[1]) + np.cos(q[0])\n",
        "y = np.sin(q[0]+q[1]+q[2]) + np.sin(q[0]+q[1]) + np.sin(q[0])\n",
        "X = [x,y]\n",
        "plt.plot(x,y, color = 'red',label = 'actual') #actual path \n",
        "plt.plot(xd,yd, color = 'blue', label = 'desired') #desired path\n",
        "plt.xlim([-2,2])\n",
        "plt.ylim([-2,2])\n",
        "plt.show()"
      ],
      "metadata": {
        "id": "sFSfIV7WOyom",
        "colab": {
          "base_uri": "https://localhost:8080/",
          "height": 269
        },
        "outputId": "665002c0-519a-4487-c165-15aff6d3fadc"
      },
      "execution_count": 84,
      "outputs": [
        {
          "output_type": "display_data",
          "data": {
            "text/plain": [
              "<Figure size 432x288 with 1 Axes>"
            ],
            "image/png": "[encoded data removed]"
          },
          "metadata": {
            "needs_background": "light"
          }
        }
      ]
    }
  ],
  "metadata": {
    "colab": {
      "provenance": [],
      "authorship_tag": "ABX9TyNr7jiiV2E2rvKlfOHbAjZR",
      "include_colab_link": true
    },
    "kernelspec": {
      "display_name": "Python 3",
      "name": "python3"
    },
    "language_info": {
      "name": "python"
    }
  },
  "nbformat": 4,
  "nbformat_minor": 0
}